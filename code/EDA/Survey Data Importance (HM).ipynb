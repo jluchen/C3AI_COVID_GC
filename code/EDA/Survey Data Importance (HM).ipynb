{
 "cells": [
  {
   "cell_type": "code",
   "execution_count": 7,
   "metadata": {},
   "outputs": [],
   "source": [
    "# Import Libraries\n",
    "import pandas as pd\n",
    "import numpy as np"
   ]
  },
  {
   "cell_type": "code",
   "execution_count": 8,
   "metadata": {},
   "outputs": [],
   "source": [
    "# Load Data Set\n",
    "data = pd.read_csv('survey_by_state.csv')"
   ]
  },
  {
   "cell_type": "code",
   "execution_count": 9,
   "metadata": {},
   "outputs": [
    {
     "data": {
      "text/html": [
       "<div>\n",
       "<style scoped>\n",
       "    .dataframe tbody tr th:only-of-type {\n",
       "        vertical-align: middle;\n",
       "    }\n",
       "\n",
       "    .dataframe tbody tr th {\n",
       "        vertical-align: top;\n",
       "    }\n",
       "\n",
       "    .dataframe thead th {\n",
       "        text-align: right;\n",
       "    }\n",
       "</style>\n",
       "<table border=\"1\" class=\"dataframe\">\n",
       "  <thead>\n",
       "    <tr style=\"text-align: right;\">\n",
       "      <th></th>\n",
       "      <th>id</th>\n",
       "      <th>annualHouseholdIncome</th>\n",
       "      <th>birthYear2020</th>\n",
       "      <th>coronavirusConcern</th>\n",
       "      <th>coronavirusEmployment</th>\n",
       "      <th>coronavirusIntent_Mask</th>\n",
       "      <th>coronavirusIntent_SixFeet</th>\n",
       "      <th>coronavirusIntent_StayHome</th>\n",
       "      <th>coronavirusIntent_WashHands</th>\n",
       "      <th>coronavirusLocalCommunity</th>\n",
       "      <th>...</th>\n",
       "      <th>elderlyMoreRisk</th>\n",
       "      <th>coronaAllHospitalize</th>\n",
       "      <th>coronaKillsMost</th>\n",
       "      <th>ethnicitySpreadsCovid</th>\n",
       "      <th>allSpreadCovid</th>\n",
       "      <th>nonNativesSpreadCovid</th>\n",
       "      <th>asymptomaticSpread</th>\n",
       "      <th>onlySickSpread</th>\n",
       "      <th>infectFromAnimal</th>\n",
       "      <th>location.id</th>\n",
       "    </tr>\n",
       "  </thead>\n",
       "  <tbody>\n",
       "    <tr>\n",
       "      <th>0</th>\n",
       "      <td>0007b4a0940ec892c58c0d875a305462</td>\n",
       "      <td>35000.0</td>\n",
       "      <td>1996</td>\n",
       "      <td>10.0</td>\n",
       "      <td>now-full</td>\n",
       "      <td>100.0</td>\n",
       "      <td>100</td>\n",
       "      <td>100</td>\n",
       "      <td>100</td>\n",
       "      <td>1.0</td>\n",
       "      <td>...</td>\n",
       "      <td>True</td>\n",
       "      <td>True</td>\n",
       "      <td>False</td>\n",
       "      <td>False</td>\n",
       "      <td>True</td>\n",
       "      <td>False</td>\n",
       "      <td>False</td>\n",
       "      <td>True</td>\n",
       "      <td>True</td>\n",
       "      <td>Georgia_UnitedStates</td>\n",
       "    </tr>\n",
       "    <tr>\n",
       "      <th>1</th>\n",
       "      <td>0014fa29afed18b4c3533df6d3fe3893</td>\n",
       "      <td>199999.0</td>\n",
       "      <td>1978</td>\n",
       "      <td>7.8</td>\n",
       "      <td>was-jobless, now-jobless</td>\n",
       "      <td>88.0</td>\n",
       "      <td>88</td>\n",
       "      <td>83</td>\n",
       "      <td>87</td>\n",
       "      <td>1.0</td>\n",
       "      <td>...</td>\n",
       "      <td>True</td>\n",
       "      <td>True</td>\n",
       "      <td>False</td>\n",
       "      <td>False</td>\n",
       "      <td>True</td>\n",
       "      <td>False</td>\n",
       "      <td>True</td>\n",
       "      <td>False</td>\n",
       "      <td>False</td>\n",
       "      <td>California_UnitedStates</td>\n",
       "    </tr>\n",
       "    <tr>\n",
       "      <th>2</th>\n",
       "      <td>00230c4625bf3a2d91fec260b03295a4</td>\n",
       "      <td>20000.0</td>\n",
       "      <td>2001</td>\n",
       "      <td>2.8</td>\n",
       "      <td>was-full, now-jobless</td>\n",
       "      <td>43.0</td>\n",
       "      <td>47</td>\n",
       "      <td>51</td>\n",
       "      <td>62</td>\n",
       "      <td>0.0</td>\n",
       "      <td>...</td>\n",
       "      <td>True</td>\n",
       "      <td>True</td>\n",
       "      <td>False</td>\n",
       "      <td>False</td>\n",
       "      <td>True</td>\n",
       "      <td>False</td>\n",
       "      <td>True</td>\n",
       "      <td>False</td>\n",
       "      <td>False</td>\n",
       "      <td>Florida_UnitedStates</td>\n",
       "    </tr>\n",
       "    <tr>\n",
       "      <th>3</th>\n",
       "      <td>003304aab00f9984ce56b2a7cdf9ebb7</td>\n",
       "      <td>NaN</td>\n",
       "      <td>1983</td>\n",
       "      <td>5.1</td>\n",
       "      <td>was-full, now-full</td>\n",
       "      <td>48.0</td>\n",
       "      <td>98</td>\n",
       "      <td>45</td>\n",
       "      <td>100</td>\n",
       "      <td>0.0</td>\n",
       "      <td>...</td>\n",
       "      <td>False</td>\n",
       "      <td>False</td>\n",
       "      <td>False</td>\n",
       "      <td>False</td>\n",
       "      <td>True</td>\n",
       "      <td>False</td>\n",
       "      <td>True</td>\n",
       "      <td>True</td>\n",
       "      <td>True</td>\n",
       "      <td>California_UnitedStates</td>\n",
       "    </tr>\n",
       "    <tr>\n",
       "      <th>4</th>\n",
       "      <td>0034443f787fa7208f90d6e88fb8f003</td>\n",
       "      <td>60000.0</td>\n",
       "      <td>1977</td>\n",
       "      <td>7.8</td>\n",
       "      <td>now-full</td>\n",
       "      <td>100.0</td>\n",
       "      <td>100</td>\n",
       "      <td>100</td>\n",
       "      <td>100</td>\n",
       "      <td>0.0</td>\n",
       "      <td>...</td>\n",
       "      <td>True</td>\n",
       "      <td>True</td>\n",
       "      <td>True</td>\n",
       "      <td>False</td>\n",
       "      <td>True</td>\n",
       "      <td>False</td>\n",
       "      <td>True</td>\n",
       "      <td>False</td>\n",
       "      <td>False</td>\n",
       "      <td>NewYork_UnitedStates</td>\n",
       "    </tr>\n",
       "  </tbody>\n",
       "</table>\n",
       "<p>5 rows × 38 columns</p>\n",
       "</div>"
      ],
      "text/plain": [
       "                                 id  annualHouseholdIncome  birthYear2020  \\\n",
       "0  0007b4a0940ec892c58c0d875a305462                35000.0           1996   \n",
       "1  0014fa29afed18b4c3533df6d3fe3893               199999.0           1978   \n",
       "2  00230c4625bf3a2d91fec260b03295a4                20000.0           2001   \n",
       "3  003304aab00f9984ce56b2a7cdf9ebb7                    NaN           1983   \n",
       "4  0034443f787fa7208f90d6e88fb8f003                60000.0           1977   \n",
       "\n",
       "   coronavirusConcern     coronavirusEmployment  coronavirusIntent_Mask  \\\n",
       "0                10.0                  now-full                   100.0   \n",
       "1                 7.8  was-jobless, now-jobless                    88.0   \n",
       "2                 2.8     was-full, now-jobless                    43.0   \n",
       "3                 5.1        was-full, now-full                    48.0   \n",
       "4                 7.8                  now-full                   100.0   \n",
       "\n",
       "   coronavirusIntent_SixFeet  coronavirusIntent_StayHome  \\\n",
       "0                        100                         100   \n",
       "1                         88                          83   \n",
       "2                         47                          51   \n",
       "3                         98                          45   \n",
       "4                        100                         100   \n",
       "\n",
       "   coronavirusIntent_WashHands  coronavirusLocalCommunity  ...  \\\n",
       "0                          100                        1.0  ...   \n",
       "1                           87                        1.0  ...   \n",
       "2                           62                        0.0  ...   \n",
       "3                          100                        0.0  ...   \n",
       "4                          100                        0.0  ...   \n",
       "\n",
       "  elderlyMoreRisk coronaAllHospitalize coronaKillsMost ethnicitySpreadsCovid  \\\n",
       "0            True                 True           False                 False   \n",
       "1            True                 True           False                 False   \n",
       "2            True                 True           False                 False   \n",
       "3           False                False           False                 False   \n",
       "4            True                 True            True                 False   \n",
       "\n",
       "  allSpreadCovid nonNativesSpreadCovid asymptomaticSpread  onlySickSpread  \\\n",
       "0           True                 False              False            True   \n",
       "1           True                 False               True           False   \n",
       "2           True                 False               True           False   \n",
       "3           True                 False               True            True   \n",
       "4           True                 False               True           False   \n",
       "\n",
       "   infectFromAnimal              location.id  \n",
       "0              True     Georgia_UnitedStates  \n",
       "1             False  California_UnitedStates  \n",
       "2             False     Florida_UnitedStates  \n",
       "3              True  California_UnitedStates  \n",
       "4             False     NewYork_UnitedStates  \n",
       "\n",
       "[5 rows x 38 columns]"
      ]
     },
     "execution_count": 9,
     "metadata": {},
     "output_type": "execute_result"
    }
   ],
   "source": [
    "# Preview Data\n",
    "data.head(5)"
   ]
  },
  {
   "cell_type": "code",
   "execution_count": 10,
   "metadata": {},
   "outputs": [
    {
     "data": {
      "text/plain": [
       "(9770, 38)"
      ]
     },
     "execution_count": 10,
     "metadata": {},
     "output_type": "execute_result"
    }
   ],
   "source": [
    "# 9770 data points and 38 variables/columns\n",
    "data.shape"
   ]
  },
  {
   "cell_type": "code",
   "execution_count": 11,
   "metadata": {},
   "outputs": [
    {
     "data": {
      "text/plain": [
       "Index(['id', 'annualHouseholdIncome', 'birthYear2020', 'coronavirusConcern',\n",
       "       'coronavirusEmployment', 'coronavirusIntent_Mask',\n",
       "       'coronavirusIntent_SixFeet', 'coronavirusIntent_StayHome',\n",
       "       'coronavirusIntent_WashHands', 'coronavirusLocalCommunity',\n",
       "       'coronavirusSupportSystem', 'coronavirusSymptoms',\n",
       "       'ratioOfAdultHospitalization', 'coronavirusWhenShouldReopen',\n",
       "       'education', 'ethnicity', 'gender', 'hasCoronavirusBelief',\n",
       "       'politicalBelief', 'politicalParty', 'religion', 'religiosity',\n",
       "       'trumpApproval', 'zipcodePrefix', 'startTime', 'coronaSimilarFlu',\n",
       "       'coronaOnlyElderly', 'youngInvulnerable', 'elderlyMoreRisk',\n",
       "       'coronaAllHospitalize', 'coronaKillsMost', 'ethnicitySpreadsCovid',\n",
       "       'allSpreadCovid', 'nonNativesSpreadCovid', 'asymptomaticSpread',\n",
       "       'onlySickSpread', 'infectFromAnimal', 'location.id'],\n",
       "      dtype='object')"
      ]
     },
     "execution_count": 11,
     "metadata": {},
     "output_type": "execute_result"
    }
   ],
   "source": [
    "# Column Names\n",
    "data.columns"
   ]
  },
  {
   "cell_type": "code",
   "execution_count": 12,
   "metadata": {},
   "outputs": [
    {
     "data": {
      "text/plain": [
       "id                                0\n",
       "annualHouseholdIncome          4126\n",
       "birthYear2020                     0\n",
       "coronavirusConcern                0\n",
       "coronavirusEmployment             0\n",
       "coronavirusIntent_Mask         1191\n",
       "coronavirusIntent_SixFeet         0\n",
       "coronavirusIntent_StayHome        0\n",
       "coronavirusIntent_WashHands       0\n",
       "coronavirusLocalCommunity        79\n",
       "coronavirusSupportSystem          0\n",
       "coronavirusSymptoms               0\n",
       "ratioOfAdultHospitalization       0\n",
       "coronavirusWhenShouldReopen       0\n",
       "education                         0\n",
       "ethnicity                         0\n",
       "gender                            0\n",
       "hasCoronavirusBelief              0\n",
       "politicalBelief                   0\n",
       "politicalParty                    0\n",
       "religion                          0\n",
       "religiosity                       0\n",
       "trumpApproval                     0\n",
       "zipcodePrefix                     0\n",
       "startTime                         0\n",
       "coronaSimilarFlu                  0\n",
       "coronaOnlyElderly                 0\n",
       "youngInvulnerable                 0\n",
       "elderlyMoreRisk                   0\n",
       "coronaAllHospitalize              0\n",
       "coronaKillsMost                   0\n",
       "ethnicitySpreadsCovid             0\n",
       "allSpreadCovid                    0\n",
       "nonNativesSpreadCovid             0\n",
       "asymptomaticSpread                0\n",
       "onlySickSpread                    0\n",
       "infectFromAnimal                  0\n",
       "location.id                       0\n",
       "dtype: int64"
      ]
     },
     "execution_count": 12,
     "metadata": {},
     "output_type": "execute_result"
    }
   ],
   "source": [
    "# Nulls per column\n",
    "data.isna().sum()"
   ]
  },
  {
   "cell_type": "code",
   "execution_count": 13,
   "metadata": {},
   "outputs": [],
   "source": [
    "### REMOVE FOLLOWING COLUMNS\n",
    "# id, birthYear2020, location_id"
   ]
  },
  {
   "cell_type": "code",
   "execution_count": 14,
   "metadata": {},
   "outputs": [
    {
     "data": {
      "text/plain": [
       "100.0    3297\n",
       "0.0       346\n",
       "99.0      197\n",
       "96.0      170\n",
       "98.0      168\n",
       "         ... \n",
       "8.0        14\n",
       "12.0       14\n",
       "10.0       13\n",
       "20.0       13\n",
       "9.0         9\n",
       "Name: coronavirusIntent_Mask, Length: 101, dtype: int64"
      ]
     },
     "execution_count": 14,
     "metadata": {},
     "output_type": "execute_result"
    }
   ],
   "source": [
    "# Mask Information\n",
    "data['coronavirusIntent_Mask'].value_counts()"
   ]
  },
  {
   "cell_type": "code",
   "execution_count": 16,
   "metadata": {},
   "outputs": [
    {
     "data": {
      "text/plain": [
       "0.0         7078\n",
       "1.0          713\n",
       "2.0          493\n",
       "3.0          302\n",
       "5.0          178\n",
       "4.0          153\n",
       "10.0          94\n",
       "6.0           59\n",
       "7.0           47\n",
       "20.0          40\n",
       "12.0          36\n",
       "8.0           36\n",
       "100.0         35\n",
       "9.0           20\n",
       "50.0          18\n",
       "200.0         16\n",
       "15.0          14\n",
       "1000.0        12\n",
       "100000.0      11\n",
       "30.0          10\n",
       "Name: coronavirusLocalCommunity, dtype: int64"
      ]
     },
     "execution_count": 16,
     "metadata": {},
     "output_type": "execute_result"
    }
   ],
   "source": [
    "# Local Community Concern\n",
    "data['coronavirusLocalCommunity'].value_counts().head(20)"
   ]
  },
  {
   "cell_type": "code",
   "execution_count": 18,
   "metadata": {},
   "outputs": [
    {
     "data": {
      "text/plain": [
       "10.0    1570\n",
       "0.0      357\n",
       "5.1      209\n",
       "7.2      203\n",
       "7.3      178\n",
       "        ... \n",
       "1.9       16\n",
       "1.2       16\n",
       "1.6       15\n",
       "1.0       14\n",
       "1.5       14\n",
       "Name: coronavirusConcern, Length: 101, dtype: int64"
      ]
     },
     "execution_count": 18,
     "metadata": {},
     "output_type": "execute_result"
    }
   ],
   "source": [
    "# Overall Concern\n",
    "data['coronavirusConcern'].value_counts()"
   ]
  },
  {
   "cell_type": "code",
   "execution_count": 19,
   "metadata": {},
   "outputs": [
    {
     "data": {
      "text/plain": [
       "2-wk         1289\n",
       "1-mo         1247\n",
       "immediate     969\n",
       "2-mo          939\n",
       "few-days      867\n",
       "3-wk          859\n",
       "1-wk          785\n",
       "3-mo          739\n",
       "6-mo          630\n",
       "yr-plus       503\n",
       "1-yr          388\n",
       "4-mo          360\n",
       "5-mo          195\n",
       "Name: coronavirusWhenShouldReopen, dtype: int64"
      ]
     },
     "execution_count": 19,
     "metadata": {},
     "output_type": "execute_result"
    }
   ],
   "source": [
    "# How long should cities have stay at home orders?\n",
    "data['coronavirusWhenShouldReopen'].value_counts()"
   ]
  },
  {
   "cell_type": "code",
   "execution_count": 20,
   "metadata": {},
   "outputs": [
    {
     "data": {
      "text/plain": [
       "catholic                  2559\n",
       "nothing-in-particular     2352\n",
       "something-else            1579\n",
       "other-protestant           760\n",
       "evangelical-protestant     663\n",
       "atheist                    355\n",
       "jewish                     316\n",
       "agnostic                   285\n",
       "muslim                     272\n",
       "mormon                     233\n",
       "orthodox                   174\n",
       "buddhist                   160\n",
       "hindu                       62\n",
       "Name: religion, dtype: int64"
      ]
     },
     "execution_count": 20,
     "metadata": {},
     "output_type": "execute_result"
    }
   ],
   "source": [
    "# Religious Markups\n",
    "data['religion'].value_counts()"
   ]
  },
  {
   "cell_type": "code",
   "execution_count": 21,
   "metadata": {},
   "outputs": [
    {
     "data": {
      "text/plain": [
       "0.0     2242\n",
       "10.0     703\n",
       "5.1      189\n",
       "5.0      172\n",
       "0.2      170\n",
       "        ... \n",
       "8.5       38\n",
       "4.4       35\n",
       "8.4       34\n",
       "8.6       32\n",
       "8.7       31\n",
       "Name: trumpApproval, Length: 101, dtype: int64"
      ]
     },
     "execution_count": 21,
     "metadata": {},
     "output_type": "execute_result"
    }
   ],
   "source": [
    "# 10 = strongly approve & 0 = strongly disapprove\n",
    "data['trumpApproval'].value_counts()"
   ]
  },
  {
   "cell_type": "code",
   "execution_count": 22,
   "metadata": {},
   "outputs": [
    {
     "data": {
      "text/plain": [
       "False    7761\n",
       "True     2009\n",
       "Name: coronaSimilarFlu, dtype: int64"
      ]
     },
     "execution_count": 22,
     "metadata": {},
     "output_type": "execute_result"
    }
   ],
   "source": [
    "data['coronaSimilarFlu'].value_counts()"
   ]
  },
  {
   "cell_type": "code",
   "execution_count": 23,
   "metadata": {},
   "outputs": [
    {
     "data": {
      "text/plain": [
       "False    8557\n",
       "True     1213\n",
       "Name: youngInvulnerable, dtype: int64"
      ]
     },
     "execution_count": 23,
     "metadata": {},
     "output_type": "execute_result"
    }
   ],
   "source": [
    "data['youngInvulnerable'].value_counts()"
   ]
  },
  {
   "cell_type": "code",
   "execution_count": 24,
   "metadata": {},
   "outputs": [
    {
     "data": {
      "text/plain": [
       "True     5392\n",
       "False    4378\n",
       "Name: elderlyMoreRisk, dtype: int64"
      ]
     },
     "execution_count": 24,
     "metadata": {},
     "output_type": "execute_result"
    }
   ],
   "source": [
    "data['elderlyMoreRisk'].value_counts()"
   ]
  },
  {
   "cell_type": "code",
   "execution_count": 26,
   "metadata": {},
   "outputs": [
    {
     "data": {
      "text/plain": [
       "False    7976\n",
       "True     1794\n",
       "Name: ethnicitySpreadsCovid, dtype: int64"
      ]
     },
     "execution_count": 26,
     "metadata": {},
     "output_type": "execute_result"
    }
   ],
   "source": [
    "data['ethnicitySpreadsCovid'].value_counts()"
   ]
  },
  {
   "cell_type": "code",
   "execution_count": 27,
   "metadata": {},
   "outputs": [
    {
     "data": {
      "text/plain": [
       "False    7972\n",
       "True     1798\n",
       "Name: nonNativesSpreadCovid, dtype: int64"
      ]
     },
     "execution_count": 27,
     "metadata": {},
     "output_type": "execute_result"
    }
   ],
   "source": [
    "data['nonNativesSpreadCovid'].value_counts()"
   ]
  },
  {
   "cell_type": "code",
   "execution_count": 29,
   "metadata": {},
   "outputs": [
    {
     "data": {
      "text/plain": [
       "True     6270\n",
       "False    3500\n",
       "Name: asymptomaticSpread, dtype: int64"
      ]
     },
     "execution_count": 29,
     "metadata": {},
     "output_type": "execute_result"
    }
   ],
   "source": [
    "data['asymptomaticSpread'].value_counts()"
   ]
  },
  {
   "cell_type": "code",
   "execution_count": 30,
   "metadata": {},
   "outputs": [
    {
     "data": {
      "text/plain": [
       "False    7002\n",
       "True     2768\n",
       "Name: onlySickSpread, dtype: int64"
      ]
     },
     "execution_count": 30,
     "metadata": {},
     "output_type": "execute_result"
    }
   ],
   "source": [
    "data['onlySickSpread'].value_counts()"
   ]
  },
  {
   "cell_type": "code",
   "execution_count": 31,
   "metadata": {},
   "outputs": [
    {
     "data": {
      "text/plain": [
       "False    7985\n",
       "True     1785\n",
       "Name: infectFromAnimal, dtype: int64"
      ]
     },
     "execution_count": 31,
     "metadata": {},
     "output_type": "execute_result"
    }
   ],
   "source": [
    "data['infectFromAnimal'].value_counts()"
   ]
  },
  {
   "cell_type": "code",
   "execution_count": 28,
   "metadata": {},
   "outputs": [],
   "source": [
    "### MOST IMPORTANT COLUMNS\n",
    "# Masks, Local Community, Concern, Trump Approval, PoliticalParty, PoliticalBeleif"
   ]
  },
  {
   "cell_type": "code",
   "execution_count": null,
   "metadata": {},
   "outputs": [],
   "source": [
    "# Sources"
   ]
  },
  {
   "cell_type": "markdown",
   "metadata": {},
   "source": [
    "https://morningconsult.com/form/coronavirus-outbreak-tracker/"
   ]
  },
  {
   "cell_type": "markdown",
   "metadata": {},
   "source": [
    "https://news.gallup.com/poll/308222/coronavirus-pandemic.aspx"
   ]
  },
  {
   "cell_type": "markdown",
   "metadata": {},
   "source": [
    "https://projects.fivethirtyeight.com/coronavirus-polls/"
   ]
  }
 ],
 "metadata": {
  "kernelspec": {
   "display_name": "Python 3",
   "language": "python",
   "name": "python3"
  },
  "language_info": {
   "codemirror_mode": {
    "name": "ipython",
    "version": 3
   },
   "file_extension": ".py",
   "mimetype": "text/x-python",
   "name": "python",
   "nbconvert_exporter": "python",
   "pygments_lexer": "ipython3",
   "version": "3.7.6"
  }
 },
 "nbformat": 4,
 "nbformat_minor": 4
}
