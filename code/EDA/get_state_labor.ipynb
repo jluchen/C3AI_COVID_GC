{
 "cells": [
  {
   "cell_type": "code",
   "execution_count": 1,
   "metadata": {},
   "outputs": [],
   "source": [
    "import requests\n",
    "import pandas as pd\n",
    "import c3aidatalake"
   ]
  },
  {
   "cell_type": "code",
   "execution_count": 2,
   "metadata": {},
   "outputs": [],
   "source": [
    "def get_labor(state):\n",
    "    rst = c3aidatalake.fetch(\n",
    "        'labordetail',\n",
    "        {\n",
    "            \"spec\": {\n",
    "                \"filter\": \"year == 2020 && contains(parent, '{0}_UnitedStates')\".format(state)\n",
    "            }\n",
    "        }\n",
    "    )\n",
    "    rst['state'] = state\n",
    "    rst = rst.drop(['unemploymentRate', 'origin', 'id', 'timestamp', 'parent.id'], axis=1)\n",
    "    rst = rst.groupby(['year', 'month', 'state']).sum().reset_index()\n",
    "    #print(rst.columns)\n",
    "    rst['unemploymentRate'] = rst.apply(lambda row: row['laborForce'] / row['unemployedPopulation'], axis=1)\n",
    "    return rst"
   ]
  },
  {
   "cell_type": "code",
   "execution_count": 3,
   "metadata": {},
   "outputs": [],
   "source": [
    "ca = get_labor('California')\n",
    "fl = get_labor('Florida')\n",
    "ga = get_labor('Georgia')\n",
    "ny = get_labor('NewYork')"
   ]
  },
  {
   "cell_type": "code",
   "execution_count": 5,
   "metadata": {},
   "outputs": [],
   "source": [
    "path = '../../data/demographics/'\n",
    "ca.to_csv(path + 'CA_State_Labor.csv', index=False)\n",
    "fl.to_csv(path + 'FL_State_Labor.csv', index=False)\n",
    "ga.to_csv(path + 'GA_State_Labor.csv', index=False)\n",
    "ny.to_csv(path + 'NY_State_Labor.csv', index=False)"
   ]
  },
  {
   "cell_type": "code",
   "execution_count": null,
   "metadata": {},
   "outputs": [],
   "source": []
  }
 ],
 "metadata": {
  "kernelspec": {
   "display_name": "Python 3",
   "language": "python",
   "name": "python3"
  },
  "language_info": {
   "codemirror_mode": {
    "name": "ipython",
    "version": 3
   },
   "file_extension": ".py",
   "mimetype": "text/x-python",
   "name": "python",
   "nbconvert_exporter": "python",
   "pygments_lexer": "ipython3",
   "version": "3.7.1"
  }
 },
 "nbformat": 4,
 "nbformat_minor": 4
}
