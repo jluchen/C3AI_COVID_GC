{
 "cells": [
  {
   "cell_type": "markdown",
   "metadata": {},
   "source": [
    "## nvm this kinda works maybe"
   ]
  },
  {
   "cell_type": "code",
   "execution_count": 1,
   "metadata": {},
   "outputs": [
    {
     "name": "stderr",
     "output_type": "stream",
     "text": [
      "D:\\Justin\\anapy\\lib\\site-packages\\statsmodels\\compat\\pandas.py:49: FutureWarning: The Panel class is removed from pandas. Accessing it from the top-level namespace will also be removed in the next version\n",
      "  data_klasses = (pandas.Series, pandas.DataFrame, pandas.Panel)\n"
     ]
    }
   ],
   "source": [
    "import pandas as pd\n",
    "from statsmodels.tsa import arima_model\n",
    "import matplotlib.pyplot as plt"
   ]
  },
  {
   "cell_type": "code",
   "execution_count": 2,
   "metadata": {},
   "outputs": [
    {
     "data": {
      "text/html": [
       "<div>\n",
       "<style scoped>\n",
       "    .dataframe tbody tr th:only-of-type {\n",
       "        vertical-align: middle;\n",
       "    }\n",
       "\n",
       "    .dataframe tbody tr th {\n",
       "        vertical-align: top;\n",
       "    }\n",
       "\n",
       "    .dataframe thead th {\n",
       "        text-align: right;\n",
       "    }\n",
       "</style>\n",
       "<table border=\"1\" class=\"dataframe\">\n",
       "  <thead>\n",
       "    <tr style=\"text-align: right;\">\n",
       "      <th></th>\n",
       "      <th>date</th>\n",
       "      <th>California.JHU_ConfirmedCases.data</th>\n",
       "      <th>California.JHU_ConfirmedCases.missing</th>\n",
       "      <th>California.JHU_ConfirmedDeaths.data</th>\n",
       "      <th>California.JHU_ConfirmedDeaths.missing</th>\n",
       "      <th>California.JHU_ConfirmedRecoveries.data</th>\n",
       "      <th>California.JHU_ConfirmedRecoveries.missing</th>\n",
       "    </tr>\n",
       "  </thead>\n",
       "  <tbody>\n",
       "    <tr>\n",
       "      <th>0</th>\n",
       "      <td>2020-01-01</td>\n",
       "      <td>0.0</td>\n",
       "      <td>5700.0</td>\n",
       "      <td>0.0</td>\n",
       "      <td>5700.0</td>\n",
       "      <td>0.0</td>\n",
       "      <td>11500.0</td>\n",
       "    </tr>\n",
       "    <tr>\n",
       "      <th>1</th>\n",
       "      <td>2020-01-02</td>\n",
       "      <td>0.0</td>\n",
       "      <td>5700.0</td>\n",
       "      <td>0.0</td>\n",
       "      <td>5700.0</td>\n",
       "      <td>0.0</td>\n",
       "      <td>11500.0</td>\n",
       "    </tr>\n",
       "    <tr>\n",
       "      <th>2</th>\n",
       "      <td>2020-01-03</td>\n",
       "      <td>0.0</td>\n",
       "      <td>5700.0</td>\n",
       "      <td>0.0</td>\n",
       "      <td>5700.0</td>\n",
       "      <td>0.0</td>\n",
       "      <td>11500.0</td>\n",
       "    </tr>\n",
       "    <tr>\n",
       "      <th>3</th>\n",
       "      <td>2020-01-04</td>\n",
       "      <td>0.0</td>\n",
       "      <td>5700.0</td>\n",
       "      <td>0.0</td>\n",
       "      <td>5700.0</td>\n",
       "      <td>0.0</td>\n",
       "      <td>11500.0</td>\n",
       "    </tr>\n",
       "    <tr>\n",
       "      <th>4</th>\n",
       "      <td>2020-01-05</td>\n",
       "      <td>0.0</td>\n",
       "      <td>5700.0</td>\n",
       "      <td>0.0</td>\n",
       "      <td>5700.0</td>\n",
       "      <td>0.0</td>\n",
       "      <td>11500.0</td>\n",
       "    </tr>\n",
       "  </tbody>\n",
       "</table>\n",
       "</div>"
      ],
      "text/plain": [
       "        date  California.JHU_ConfirmedCases.data  \\\n",
       "0 2020-01-01                                 0.0   \n",
       "1 2020-01-02                                 0.0   \n",
       "2 2020-01-03                                 0.0   \n",
       "3 2020-01-04                                 0.0   \n",
       "4 2020-01-05                                 0.0   \n",
       "\n",
       "   California.JHU_ConfirmedCases.missing  California.JHU_ConfirmedDeaths.data  \\\n",
       "0                                 5700.0                                  0.0   \n",
       "1                                 5700.0                                  0.0   \n",
       "2                                 5700.0                                  0.0   \n",
       "3                                 5700.0                                  0.0   \n",
       "4                                 5700.0                                  0.0   \n",
       "\n",
       "   California.JHU_ConfirmedDeaths.missing  \\\n",
       "0                                  5700.0   \n",
       "1                                  5700.0   \n",
       "2                                  5700.0   \n",
       "3                                  5700.0   \n",
       "4                                  5700.0   \n",
       "\n",
       "   California.JHU_ConfirmedRecoveries.data  \\\n",
       "0                                      0.0   \n",
       "1                                      0.0   \n",
       "2                                      0.0   \n",
       "3                                      0.0   \n",
       "4                                      0.0   \n",
       "\n",
       "   California.JHU_ConfirmedRecoveries.missing  \n",
       "0                                     11500.0  \n",
       "1                                     11500.0  \n",
       "2                                     11500.0  \n",
       "3                                     11500.0  \n",
       "4                                     11500.0  "
      ]
     },
     "execution_count": 2,
     "metadata": {},
     "output_type": "execute_result"
    }
   ],
   "source": [
    "df = pd.read_csv(r'../../data/cases/CA_JHU_cases.csv')\n",
    "df['date'] = pd.to_datetime(df['date'])\n",
    "df.head()"
   ]
  },
  {
   "cell_type": "code",
   "execution_count": 3,
   "metadata": {},
   "outputs": [
    {
     "data": {
      "text/html": [
       "<div>\n",
       "<style scoped>\n",
       "    .dataframe tbody tr th:only-of-type {\n",
       "        vertical-align: middle;\n",
       "    }\n",
       "\n",
       "    .dataframe tbody tr th {\n",
       "        vertical-align: top;\n",
       "    }\n",
       "\n",
       "    .dataframe thead th {\n",
       "        text-align: right;\n",
       "    }\n",
       "</style>\n",
       "<table border=\"1\" class=\"dataframe\">\n",
       "  <thead>\n",
       "    <tr style=\"text-align: right;\">\n",
       "      <th></th>\n",
       "      <th>date</th>\n",
       "      <th>California.JHU_ConfirmedCases.data</th>\n",
       "    </tr>\n",
       "  </thead>\n",
       "  <tbody>\n",
       "    <tr>\n",
       "      <th>0</th>\n",
       "      <td>2020-01-01</td>\n",
       "      <td>0.0</td>\n",
       "    </tr>\n",
       "    <tr>\n",
       "      <th>1</th>\n",
       "      <td>2020-01-02</td>\n",
       "      <td>0.0</td>\n",
       "    </tr>\n",
       "    <tr>\n",
       "      <th>2</th>\n",
       "      <td>2020-01-03</td>\n",
       "      <td>0.0</td>\n",
       "    </tr>\n",
       "    <tr>\n",
       "      <th>3</th>\n",
       "      <td>2020-01-04</td>\n",
       "      <td>0.0</td>\n",
       "    </tr>\n",
       "    <tr>\n",
       "      <th>4</th>\n",
       "      <td>2020-01-05</td>\n",
       "      <td>0.0</td>\n",
       "    </tr>\n",
       "  </tbody>\n",
       "</table>\n",
       "</div>"
      ],
      "text/plain": [
       "        date  California.JHU_ConfirmedCases.data\n",
       "0 2020-01-01                                 0.0\n",
       "1 2020-01-02                                 0.0\n",
       "2 2020-01-03                                 0.0\n",
       "3 2020-01-04                                 0.0\n",
       "4 2020-01-05                                 0.0"
      ]
     },
     "execution_count": 3,
     "metadata": {},
     "output_type": "execute_result"
    }
   ],
   "source": [
    "cases = df[['date', 'California.JHU_ConfirmedCases.data']]\n",
    "cases.head()"
   ]
  },
  {
   "cell_type": "markdown",
   "metadata": {},
   "source": [
    "## Try an ARIMA Model"
   ]
  },
  {
   "cell_type": "code",
   "execution_count": 4,
   "metadata": {},
   "outputs": [
    {
     "data": {
      "text/html": [
       "<table class=\"simpletable\">\n",
       "<caption>ARMA Model Results</caption>\n",
       "<tr>\n",
       "  <th>Dep. Variable:</th> <td>California.JHU_ConfirmedCases.data</td> <th>  No. Observations:  </th>     <td>302</td>   \n",
       "</tr>\n",
       "<tr>\n",
       "  <th>Model:</th>                     <td>ARMA(0, 1)</td>             <th>  Log Likelihood     </th>  <td>-4274.197</td>\n",
       "</tr>\n",
       "<tr>\n",
       "  <th>Method:</th>                      <td>css-mle</td>              <th>  S.D. of innovations</th> <td>335905.744</td>\n",
       "</tr>\n",
       "<tr>\n",
       "  <th>Date:</th>                   <td>Fri, 30 Oct 2020</td>          <th>  AIC                </th>  <td>8554.394</td> \n",
       "</tr>\n",
       "<tr>\n",
       "  <th>Time:</th>                       <td>22:54:25</td>              <th>  BIC                </th>  <td>8565.525</td> \n",
       "</tr>\n",
       "<tr>\n",
       "  <th>Sample:</th>                         <td>0</td>                 <th>  HQIC               </th>  <td>8558.848</td> \n",
       "</tr>\n",
       "<tr>\n",
       "  <th></th>                                <td> </td>                 <th>                     </th>      <td> </td>    \n",
       "</tr>\n",
       "</table>\n",
       "<table class=\"simpletable\">\n",
       "<tr>\n",
       "                      <td></td>                        <th>coef</th>     <th>std err</th>      <th>z</th>      <th>P>|z|</th>  <th>[0.025</th>    <th>0.975]</th>  \n",
       "</tr>\n",
       "<tr>\n",
       "  <th>const</th>                                    <td> 5.882e+05</td> <td> 3.86e+04</td> <td>   15.240</td> <td> 0.000</td> <td> 5.13e+05</td> <td> 6.64e+05</td>\n",
       "</tr>\n",
       "<tr>\n",
       "  <th>ma.L1.California.JHU_ConfirmedCases.data</th> <td>    1.0000</td> <td>    0.012</td> <td>   81.944</td> <td> 0.000</td> <td>    0.976</td> <td>    1.024</td>\n",
       "</tr>\n",
       "</table>\n",
       "<table class=\"simpletable\">\n",
       "<caption>Roots</caption>\n",
       "<tr>\n",
       "    <td></td>   <th>            Real</th>  <th>         Imaginary</th> <th>         Modulus</th>  <th>        Frequency</th>\n",
       "</tr>\n",
       "<tr>\n",
       "  <th>MA.1</th> <td>          -1.0000</td> <td>          +0.0000j</td> <td>           1.0000</td> <td>           0.5000</td>\n",
       "</tr>\n",
       "</table>"
      ],
      "text/plain": [
       "<class 'statsmodels.iolib.summary.Summary'>\n",
       "\"\"\"\n",
       "                                      ARMA Model Results                                      \n",
       "==============================================================================================\n",
       "Dep. Variable:     California.JHU_ConfirmedCases.data   No. Observations:                  302\n",
       "Model:                                     ARMA(0, 1)   Log Likelihood               -4274.197\n",
       "Method:                                       css-mle   S.D. of innovations         335905.744\n",
       "Date:                                Fri, 30 Oct 2020   AIC                           8554.394\n",
       "Time:                                        22:54:25   BIC                           8565.525\n",
       "Sample:                                             0   HQIC                          8558.848\n",
       "                                                                                              \n",
       "============================================================================================================\n",
       "                                               coef    std err          z      P>|z|      [0.025      0.975]\n",
       "------------------------------------------------------------------------------------------------------------\n",
       "const                                     5.882e+05   3.86e+04     15.240      0.000    5.13e+05    6.64e+05\n",
       "ma.L1.California.JHU_ConfirmedCases.data     1.0000      0.012     81.944      0.000       0.976       1.024\n",
       "                                    Roots                                    \n",
       "=============================================================================\n",
       "                  Real          Imaginary           Modulus         Frequency\n",
       "-----------------------------------------------------------------------------\n",
       "MA.1           -1.0000           +0.0000j            1.0000            0.5000\n",
       "-----------------------------------------------------------------------------\n",
       "\"\"\""
      ]
     },
     "execution_count": 4,
     "metadata": {},
     "output_type": "execute_result"
    }
   ],
   "source": [
    "arima = arima_model.ARIMA(cases['California.JHU_ConfirmedCases.data'], order=(0,0,1))\n",
    "arima_fit = arima.fit(disp=0)\n",
    "arima_fit.summary()"
   ]
  },
  {
   "cell_type": "code",
   "execution_count": 5,
   "metadata": {},
   "outputs": [],
   "source": [
    "rst = arima.fit(disp=-1)"
   ]
  },
  {
   "cell_type": "code",
   "execution_count": 6,
   "metadata": {},
   "outputs": [
    {
     "data": {
      "text/plain": [
       "0      5.881750e+05\n",
       "1      2.940875e+05\n",
       "2      3.921167e+05\n",
       "3      2.940875e+05\n",
       "4      3.529050e+05\n",
       "           ...     \n",
       "297    1.253930e+06\n",
       "298    1.181806e+06\n",
       "299    1.257155e+06\n",
       "300    1.191718e+06\n",
       "301    1.263993e+06\n",
       "Length: 302, dtype: float64"
      ]
     },
     "execution_count": 6,
     "metadata": {},
     "output_type": "execute_result"
    }
   ],
   "source": [
    "rst.fittedvalues"
   ]
  },
  {
   "cell_type": "code",
   "execution_count": 7,
   "metadata": {},
   "outputs": [
    {
     "name": "stderr",
     "output_type": "stream",
     "text": [
      "D:\\Justin\\anapy\\lib\\site-packages\\statsmodels\\tsa\\base\\tsa_model.py:293: FutureWarning: RangeIndex._start is deprecated and will be removed in a future version. Use RangeIndex.start instead\n",
      "  stop = base_index._start + (key + 1) * base_index._step\n",
      "D:\\Justin\\anapy\\lib\\site-packages\\statsmodels\\tsa\\base\\tsa_model.py:293: FutureWarning: RangeIndex._step is deprecated and will be removed in a future version. Use RangeIndex.step instead\n",
      "  stop = base_index._start + (key + 1) * base_index._step\n",
      "D:\\Justin\\anapy\\lib\\site-packages\\statsmodels\\tsa\\base\\tsa_model.py:294: FutureWarning: RangeIndex._start is deprecated and will be removed in a future version. Use RangeIndex.start instead\n",
      "  index = RangeIndex(start=base_index._start,\n",
      "D:\\Justin\\anapy\\lib\\site-packages\\statsmodels\\tsa\\base\\tsa_model.py:296: FutureWarning: RangeIndex._step is deprecated and will be removed in a future version. Use RangeIndex.step instead\n",
      "  step=base_index._step)\n",
      "D:\\Justin\\anapy\\lib\\site-packages\\scipy\\signal\\signaltools.py:1344: FutureWarning: Using a non-tuple sequence for multidimensional indexing is deprecated; use `arr[tuple(seq)]` instead of `arr[seq]`. In the future this will be interpreted as an array index, `arr[np.array(seq)]`, which will result either in an error or a different result.\n",
      "  out = out_full[ind]\n"
     ]
    },
    {
     "data": {
      "image/png": "[encoded data removed]",
      "text/plain": [
       "<Figure size 432x288 with 1 Axes>"
      ]
     },
     "execution_count": 7,
     "metadata": {},
     "output_type": "execute_result"
    },
    {
     "data": {
      "image/png": "[encoded data removed]",
      "text/plain": [
       "<Figure size 432x288 with 1 Axes>"
      ]
     },
     "metadata": {
      "needs_background": "light"
     },
     "output_type": "display_data"
    }
   ],
   "source": [
    "rst.plot_predict(0,len(cases))"
   ]
  },
  {
   "cell_type": "markdown",
   "metadata": {},
   "source": [
    "## Test inclusion of exogenous variables"
   ]
  },
  {
   "cell_type": "code",
   "execution_count": 8,
   "metadata": {},
   "outputs": [
    {
     "data": {
      "text/html": [
       "<div>\n",
       "<style scoped>\n",
       "    .dataframe tbody tr th:only-of-type {\n",
       "        vertical-align: middle;\n",
       "    }\n",
       "\n",
       "    .dataframe tbody tr th {\n",
       "        vertical-align: top;\n",
       "    }\n",
       "\n",
       "    .dataframe thead th {\n",
       "        text-align: right;\n",
       "    }\n",
       "</style>\n",
       "<table border=\"1\" class=\"dataframe\">\n",
       "  <thead>\n",
       "    <tr style=\"text-align: right;\">\n",
       "      <th></th>\n",
       "      <th>year</th>\n",
       "      <th>month</th>\n",
       "      <th>state</th>\n",
       "      <th>laborForce</th>\n",
       "      <th>employedPopulation</th>\n",
       "      <th>unemployedPopulation</th>\n",
       "      <th>unemploymentRate</th>\n",
       "    </tr>\n",
       "  </thead>\n",
       "  <tbody>\n",
       "    <tr>\n",
       "      <th>0</th>\n",
       "      <td>2020</td>\n",
       "      <td>1</td>\n",
       "      <td>California</td>\n",
       "      <td>38954708</td>\n",
       "      <td>37274734</td>\n",
       "      <td>1679974</td>\n",
       "      <td>23.187685</td>\n",
       "    </tr>\n",
       "    <tr>\n",
       "      <th>1</th>\n",
       "      <td>2020</td>\n",
       "      <td>2</td>\n",
       "      <td>California</td>\n",
       "      <td>39056970</td>\n",
       "      <td>37372248</td>\n",
       "      <td>1684722</td>\n",
       "      <td>23.183036</td>\n",
       "    </tr>\n",
       "    <tr>\n",
       "      <th>2</th>\n",
       "      <td>2020</td>\n",
       "      <td>3</td>\n",
       "      <td>California</td>\n",
       "      <td>38384234</td>\n",
       "      <td>36171422</td>\n",
       "      <td>2212812</td>\n",
       "      <td>17.346360</td>\n",
       "    </tr>\n",
       "    <tr>\n",
       "      <th>3</th>\n",
       "      <td>2020</td>\n",
       "      <td>4</td>\n",
       "      <td>California</td>\n",
       "      <td>37034830</td>\n",
       "      <td>31050892</td>\n",
       "      <td>5983938</td>\n",
       "      <td>6.189040</td>\n",
       "    </tr>\n",
       "    <tr>\n",
       "      <th>4</th>\n",
       "      <td>2020</td>\n",
       "      <td>5</td>\n",
       "      <td>California</td>\n",
       "      <td>23131049</td>\n",
       "      <td>19211546</td>\n",
       "      <td>3919503</td>\n",
       "      <td>5.901526</td>\n",
       "    </tr>\n",
       "  </tbody>\n",
       "</table>\n",
       "</div>"
      ],
      "text/plain": [
       "   year  month       state  laborForce  employedPopulation  \\\n",
       "0  2020      1  California    38954708            37274734   \n",
       "1  2020      2  California    39056970            37372248   \n",
       "2  2020      3  California    38384234            36171422   \n",
       "3  2020      4  California    37034830            31050892   \n",
       "4  2020      5  California    23131049            19211546   \n",
       "\n",
       "   unemployedPopulation  unemploymentRate  \n",
       "0               1679974         23.187685  \n",
       "1               1684722         23.183036  \n",
       "2               2212812         17.346360  \n",
       "3               5983938          6.189040  \n",
       "4               3919503          5.901526  "
      ]
     },
     "execution_count": 8,
     "metadata": {},
     "output_type": "execute_result"
    }
   ],
   "source": [
    "labor = pd.read_csv(r'../../data/demographics/CA_State_labor.csv')\n",
    "labor.head()"
   ]
  },
  {
   "cell_type": "code",
   "execution_count": 9,
   "metadata": {},
   "outputs": [
    {
     "data": {
      "text/html": [
       "<div>\n",
       "<style scoped>\n",
       "    .dataframe tbody tr th:only-of-type {\n",
       "        vertical-align: middle;\n",
       "    }\n",
       "\n",
       "    .dataframe tbody tr th {\n",
       "        vertical-align: top;\n",
       "    }\n",
       "\n",
       "    .dataframe thead th {\n",
       "        text-align: right;\n",
       "    }\n",
       "</style>\n",
       "<table border=\"1\" class=\"dataframe\">\n",
       "  <thead>\n",
       "    <tr style=\"text-align: right;\">\n",
       "      <th></th>\n",
       "      <th>date</th>\n",
       "      <th>California.JHU_ConfirmedCases.data</th>\n",
       "      <th>California.JHU_ConfirmedCases.missing</th>\n",
       "      <th>California.JHU_ConfirmedDeaths.data</th>\n",
       "      <th>California.JHU_ConfirmedDeaths.missing</th>\n",
       "      <th>California.JHU_ConfirmedRecoveries.data</th>\n",
       "      <th>California.JHU_ConfirmedRecoveries.missing</th>\n",
       "      <th>month</th>\n",
       "    </tr>\n",
       "  </thead>\n",
       "  <tbody>\n",
       "    <tr>\n",
       "      <th>0</th>\n",
       "      <td>2020-01-01</td>\n",
       "      <td>0.0</td>\n",
       "      <td>5700.0</td>\n",
       "      <td>0.0</td>\n",
       "      <td>5700.0</td>\n",
       "      <td>0.0</td>\n",
       "      <td>11500.0</td>\n",
       "      <td>1</td>\n",
       "    </tr>\n",
       "    <tr>\n",
       "      <th>1</th>\n",
       "      <td>2020-01-02</td>\n",
       "      <td>0.0</td>\n",
       "      <td>5700.0</td>\n",
       "      <td>0.0</td>\n",
       "      <td>5700.0</td>\n",
       "      <td>0.0</td>\n",
       "      <td>11500.0</td>\n",
       "      <td>1</td>\n",
       "    </tr>\n",
       "    <tr>\n",
       "      <th>2</th>\n",
       "      <td>2020-01-03</td>\n",
       "      <td>0.0</td>\n",
       "      <td>5700.0</td>\n",
       "      <td>0.0</td>\n",
       "      <td>5700.0</td>\n",
       "      <td>0.0</td>\n",
       "      <td>11500.0</td>\n",
       "      <td>1</td>\n",
       "    </tr>\n",
       "    <tr>\n",
       "      <th>3</th>\n",
       "      <td>2020-01-04</td>\n",
       "      <td>0.0</td>\n",
       "      <td>5700.0</td>\n",
       "      <td>0.0</td>\n",
       "      <td>5700.0</td>\n",
       "      <td>0.0</td>\n",
       "      <td>11500.0</td>\n",
       "      <td>1</td>\n",
       "    </tr>\n",
       "    <tr>\n",
       "      <th>4</th>\n",
       "      <td>2020-01-05</td>\n",
       "      <td>0.0</td>\n",
       "      <td>5700.0</td>\n",
       "      <td>0.0</td>\n",
       "      <td>5700.0</td>\n",
       "      <td>0.0</td>\n",
       "      <td>11500.0</td>\n",
       "      <td>1</td>\n",
       "    </tr>\n",
       "  </tbody>\n",
       "</table>\n",
       "</div>"
      ],
      "text/plain": [
       "        date  California.JHU_ConfirmedCases.data  \\\n",
       "0 2020-01-01                                 0.0   \n",
       "1 2020-01-02                                 0.0   \n",
       "2 2020-01-03                                 0.0   \n",
       "3 2020-01-04                                 0.0   \n",
       "4 2020-01-05                                 0.0   \n",
       "\n",
       "   California.JHU_ConfirmedCases.missing  California.JHU_ConfirmedDeaths.data  \\\n",
       "0                                 5700.0                                  0.0   \n",
       "1                                 5700.0                                  0.0   \n",
       "2                                 5700.0                                  0.0   \n",
       "3                                 5700.0                                  0.0   \n",
       "4                                 5700.0                                  0.0   \n",
       "\n",
       "   California.JHU_ConfirmedDeaths.missing  \\\n",
       "0                                  5700.0   \n",
       "1                                  5700.0   \n",
       "2                                  5700.0   \n",
       "3                                  5700.0   \n",
       "4                                  5700.0   \n",
       "\n",
       "   California.JHU_ConfirmedRecoveries.data  \\\n",
       "0                                      0.0   \n",
       "1                                      0.0   \n",
       "2                                      0.0   \n",
       "3                                      0.0   \n",
       "4                                      0.0   \n",
       "\n",
       "   California.JHU_ConfirmedRecoveries.missing  month  \n",
       "0                                     11500.0      1  \n",
       "1                                     11500.0      1  \n",
       "2                                     11500.0      1  \n",
       "3                                     11500.0      1  \n",
       "4                                     11500.0      1  "
      ]
     },
     "execution_count": 9,
     "metadata": {},
     "output_type": "execute_result"
    }
   ],
   "source": [
    "df['month'] = df['date'].apply(lambda x: int(x.month))\n",
    "df.head()"
   ]
  },
  {
   "cell_type": "code",
   "execution_count": 10,
   "metadata": {},
   "outputs": [
    {
     "data": {
      "text/html": [
       "<div>\n",
       "<style scoped>\n",
       "    .dataframe tbody tr th:only-of-type {\n",
       "        vertical-align: middle;\n",
       "    }\n",
       "\n",
       "    .dataframe tbody tr th {\n",
       "        vertical-align: top;\n",
       "    }\n",
       "\n",
       "    .dataframe thead th {\n",
       "        text-align: right;\n",
       "    }\n",
       "</style>\n",
       "<table border=\"1\" class=\"dataframe\">\n",
       "  <thead>\n",
       "    <tr style=\"text-align: right;\">\n",
       "      <th></th>\n",
       "      <th>date</th>\n",
       "      <th>month</th>\n",
       "      <th>California.JHU_ConfirmedCases.data</th>\n",
       "      <th>unemploymentRate</th>\n",
       "    </tr>\n",
       "  </thead>\n",
       "  <tbody>\n",
       "    <tr>\n",
       "      <th>0</th>\n",
       "      <td>2020-01-01</td>\n",
       "      <td>1</td>\n",
       "      <td>0.0</td>\n",
       "      <td>23.187685</td>\n",
       "    </tr>\n",
       "    <tr>\n",
       "      <th>1</th>\n",
       "      <td>2020-01-02</td>\n",
       "      <td>1</td>\n",
       "      <td>0.0</td>\n",
       "      <td>23.187685</td>\n",
       "    </tr>\n",
       "    <tr>\n",
       "      <th>2</th>\n",
       "      <td>2020-01-03</td>\n",
       "      <td>1</td>\n",
       "      <td>0.0</td>\n",
       "      <td>23.187685</td>\n",
       "    </tr>\n",
       "    <tr>\n",
       "      <th>3</th>\n",
       "      <td>2020-01-04</td>\n",
       "      <td>1</td>\n",
       "      <td>0.0</td>\n",
       "      <td>23.187685</td>\n",
       "    </tr>\n",
       "    <tr>\n",
       "      <th>4</th>\n",
       "      <td>2020-01-05</td>\n",
       "      <td>1</td>\n",
       "      <td>0.0</td>\n",
       "      <td>23.187685</td>\n",
       "    </tr>\n",
       "  </tbody>\n",
       "</table>\n",
       "</div>"
      ],
      "text/plain": [
       "        date  month  California.JHU_ConfirmedCases.data  unemploymentRate\n",
       "0 2020-01-01      1                                 0.0         23.187685\n",
       "1 2020-01-02      1                                 0.0         23.187685\n",
       "2 2020-01-03      1                                 0.0         23.187685\n",
       "3 2020-01-04      1                                 0.0         23.187685\n",
       "4 2020-01-05      1                                 0.0         23.187685"
      ]
     },
     "execution_count": 10,
     "metadata": {},
     "output_type": "execute_result"
    }
   ],
   "source": [
    "exo_test = df[['date', 'month','California.JHU_ConfirmedCases.data']].merge(labor[['month','unemploymentRate']], on=['month'])\n",
    "exo_test.head()"
   ]
  },
  {
   "cell_type": "code",
   "execution_count": 11,
   "metadata": {},
   "outputs": [
    {
     "data": {
      "text/html": [
       "<table class=\"simpletable\">\n",
       "<caption>ARMA Model Results</caption>\n",
       "<tr>\n",
       "  <th>Dep. Variable:</th> <td>California.JHU_ConfirmedCases.data</td> <th>  No. Observations:  </th>     <td>244</td>   \n",
       "</tr>\n",
       "<tr>\n",
       "  <th>Model:</th>                     <td>ARMA(0, 1)</td>             <th>  Log Likelihood     </th>  <td>-3331.565</td>\n",
       "</tr>\n",
       "<tr>\n",
       "  <th>Method:</th>                      <td>css-mle</td>              <th>  S.D. of innovations</th> <td>204683.998</td>\n",
       "</tr>\n",
       "<tr>\n",
       "  <th>Date:</th>                   <td>Fri, 30 Oct 2020</td>          <th>  AIC                </th>  <td>6671.130</td> \n",
       "</tr>\n",
       "<tr>\n",
       "  <th>Time:</th>                       <td>22:54:27</td>              <th>  BIC                </th>  <td>6685.119</td> \n",
       "</tr>\n",
       "<tr>\n",
       "  <th>Sample:</th>                         <td>0</td>                 <th>  HQIC               </th>  <td>6676.764</td> \n",
       "</tr>\n",
       "<tr>\n",
       "  <th></th>                                <td> </td>                 <th>                     </th>      <td> </td>    \n",
       "</tr>\n",
       "</table>\n",
       "<table class=\"simpletable\">\n",
       "<tr>\n",
       "                      <td></td>                        <th>coef</th>     <th>std err</th>      <th>z</th>      <th>P>|z|</th>  <th>[0.025</th>    <th>0.975]</th>  \n",
       "</tr>\n",
       "<tr>\n",
       "  <th>const</th>                                    <td> 6.813e+05</td> <td> 5.02e+04</td> <td>   13.566</td> <td> 0.000</td> <td> 5.83e+05</td> <td>  7.8e+05</td>\n",
       "</tr>\n",
       "<tr>\n",
       "  <th>unemploymentRate</th>                         <td>-2.774e+04</td> <td> 3512.505</td> <td>   -7.898</td> <td> 0.000</td> <td>-3.46e+04</td> <td>-2.09e+04</td>\n",
       "</tr>\n",
       "<tr>\n",
       "  <th>ma.L1.California.JHU_ConfirmedCases.data</th> <td>    0.9700</td> <td>    0.013</td> <td>   74.259</td> <td> 0.000</td> <td>    0.944</td> <td>    0.996</td>\n",
       "</tr>\n",
       "</table>\n",
       "<table class=\"simpletable\">\n",
       "<caption>Roots</caption>\n",
       "<tr>\n",
       "    <td></td>   <th>            Real</th>  <th>         Imaginary</th> <th>         Modulus</th>  <th>        Frequency</th>\n",
       "</tr>\n",
       "<tr>\n",
       "  <th>MA.1</th> <td>          -1.0310</td> <td>          +0.0000j</td> <td>           1.0310</td> <td>           0.5000</td>\n",
       "</tr>\n",
       "</table>"
      ],
      "text/plain": [
       "<class 'statsmodels.iolib.summary.Summary'>\n",
       "\"\"\"\n",
       "                                      ARMA Model Results                                      \n",
       "==============================================================================================\n",
       "Dep. Variable:     California.JHU_ConfirmedCases.data   No. Observations:                  244\n",
       "Model:                                     ARMA(0, 1)   Log Likelihood               -3331.565\n",
       "Method:                                       css-mle   S.D. of innovations         204683.998\n",
       "Date:                                Fri, 30 Oct 2020   AIC                           6671.130\n",
       "Time:                                        22:54:27   BIC                           6685.119\n",
       "Sample:                                             0   HQIC                          6676.764\n",
       "                                                                                              \n",
       "============================================================================================================\n",
       "                                               coef    std err          z      P>|z|      [0.025      0.975]\n",
       "------------------------------------------------------------------------------------------------------------\n",
       "const                                     6.813e+05   5.02e+04     13.566      0.000    5.83e+05     7.8e+05\n",
       "unemploymentRate                         -2.774e+04   3512.505     -7.898      0.000   -3.46e+04   -2.09e+04\n",
       "ma.L1.California.JHU_ConfirmedCases.data     0.9700      0.013     74.259      0.000       0.944       0.996\n",
       "                                    Roots                                    \n",
       "=============================================================================\n",
       "                  Real          Imaginary           Modulus         Frequency\n",
       "-----------------------------------------------------------------------------\n",
       "MA.1           -1.0310           +0.0000j            1.0310            0.5000\n",
       "-----------------------------------------------------------------------------\n",
       "\"\"\""
      ]
     },
     "execution_count": 11,
     "metadata": {},
     "output_type": "execute_result"
    }
   ],
   "source": [
    "arimax = arima_model.ARIMA(exo_test['California.JHU_ConfirmedCases.data'], \n",
    "                           order=(0,0,1), exog=exo_test['unemploymentRate'])\n",
    "arimax_fit = arimax.fit(disp=0)\n",
    "arimax_fit.summary()"
   ]
  },
  {
   "cell_type": "code",
   "execution_count": 12,
   "metadata": {},
   "outputs": [
    {
     "data": {
      "text/plain": [
       "0       38023.351878\n",
       "1       19020.505149\n",
       "2       25352.825953\n",
       "3       19029.317976\n",
       "4       22821.073839\n",
       "           ...      \n",
       "239    946135.065887\n",
       "240    908586.656427\n",
       "241    956051.930268\n",
       "242    919357.418862\n",
       "243    962753.736291\n",
       "Length: 244, dtype: float64"
      ]
     },
     "execution_count": 12,
     "metadata": {},
     "output_type": "execute_result"
    }
   ],
   "source": [
    "rst2 = arimax.fit(disp=-1)\n",
    "rst2.fittedvalues"
   ]
  },
  {
   "cell_type": "code",
   "execution_count": 13,
   "metadata": {},
   "outputs": [
    {
     "name": "stderr",
     "output_type": "stream",
     "text": [
      "D:\\Justin\\anapy\\lib\\site-packages\\scipy\\signal\\signaltools.py:1344: FutureWarning: Using a non-tuple sequence for multidimensional indexing is deprecated; use `arr[tuple(seq)]` instead of `arr[seq]`. In the future this will be interpreted as an array index, `arr[np.array(seq)]`, which will result either in an error or a different result.\n",
      "  out = out_full[ind]\n"
     ]
    },
    {
     "data": {
      "image/png": "[encoded data removed]",
      "text/plain": [
       "<Figure size 432x288 with 1 Axes>"
      ]
     },
     "execution_count": 13,
     "metadata": {},
     "output_type": "execute_result"
    },
    {
     "data": {
      "image/png": "[encoded data removed]",
      "text/plain": [
       "<Figure size 432x288 with 1 Axes>"
      ]
     },
     "metadata": {
      "needs_background": "light"
     },
     "output_type": "display_data"
    }
   ],
   "source": [
    "rst2.plot_predict(0,len(exo_test), exog=exo_test['unemploymentRate'])"
   ]
  },
  {
   "cell_type": "code",
   "execution_count": null,
   "metadata": {},
   "outputs": [],
   "source": []
  }
 ],
 "metadata": {
  "kernelspec": {
   "display_name": "Python 3",
   "language": "python",
   "name": "python3"
  },
  "language_info": {
   "codemirror_mode": {
    "name": "ipython",
    "version": 3
   },
   "file_extension": ".py",
   "mimetype": "text/x-python",
   "name": "python",
   "nbconvert_exporter": "python",
   "pygments_lexer": "ipython3",
   "version": "3.7.1"
  }
 },
 "nbformat": 4,
 "nbformat_minor": 4
}
