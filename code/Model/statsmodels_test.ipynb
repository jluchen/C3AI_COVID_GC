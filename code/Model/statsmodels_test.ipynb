{
 "cells": [
  {
   "cell_type": "markdown",
   "metadata": {},
   "source": [
    "## nvm this kinda works maybe"
   ]
  },
  {
   "cell_type": "code",
   "execution_count": 1,
   "metadata": {},
   "outputs": [],
   "source": [
    "import pandas as pd\n",
    "from statsmodels.tsa import arima_model\n",
    "import matplotlib.pyplot as plt"
   ]
  },
  {
   "cell_type": "code",
   "execution_count": 2,
   "metadata": {},
   "outputs": [
    {
     "data": {
      "text/html": [
       "<div>\n",
       "<style scoped>\n",
       "    .dataframe tbody tr th:only-of-type {\n",
       "        vertical-align: middle;\n",
       "    }\n",
       "\n",
       "    .dataframe tbody tr th {\n",
       "        vertical-align: top;\n",
       "    }\n",
       "\n",
       "    .dataframe thead th {\n",
       "        text-align: right;\n",
       "    }\n",
       "</style>\n",
       "<table border=\"1\" class=\"dataframe\">\n",
       "  <thead>\n",
       "    <tr style=\"text-align: right;\">\n",
       "      <th></th>\n",
       "      <th>date</th>\n",
       "      <th>California.JHU_ConfirmedCases.data</th>\n",
       "      <th>California.JHU_ConfirmedCases.missing</th>\n",
       "      <th>California.JHU_ConfirmedDeaths.data</th>\n",
       "      <th>California.JHU_ConfirmedDeaths.missing</th>\n",
       "      <th>California.JHU_ConfirmedRecoveries.data</th>\n",
       "      <th>California.JHU_ConfirmedRecoveries.missing</th>\n",
       "    </tr>\n",
       "  </thead>\n",
       "  <tbody>\n",
       "    <tr>\n",
       "      <th>0</th>\n",
       "      <td>2020-01-01</td>\n",
       "      <td>0.0</td>\n",
       "      <td>5700.0</td>\n",
       "      <td>0.0</td>\n",
       "      <td>5700.0</td>\n",
       "      <td>0.0</td>\n",
       "      <td>11500.0</td>\n",
       "    </tr>\n",
       "    <tr>\n",
       "      <th>1</th>\n",
       "      <td>2020-01-02</td>\n",
       "      <td>0.0</td>\n",
       "      <td>5700.0</td>\n",
       "      <td>0.0</td>\n",
       "      <td>5700.0</td>\n",
       "      <td>0.0</td>\n",
       "      <td>11500.0</td>\n",
       "    </tr>\n",
       "    <tr>\n",
       "      <th>2</th>\n",
       "      <td>2020-01-03</td>\n",
       "      <td>0.0</td>\n",
       "      <td>5700.0</td>\n",
       "      <td>0.0</td>\n",
       "      <td>5700.0</td>\n",
       "      <td>0.0</td>\n",
       "      <td>11500.0</td>\n",
       "    </tr>\n",
       "    <tr>\n",
       "      <th>3</th>\n",
       "      <td>2020-01-04</td>\n",
       "      <td>0.0</td>\n",
       "      <td>5700.0</td>\n",
       "      <td>0.0</td>\n",
       "      <td>5700.0</td>\n",
       "      <td>0.0</td>\n",
       "      <td>11500.0</td>\n",
       "    </tr>\n",
       "    <tr>\n",
       "      <th>4</th>\n",
       "      <td>2020-01-05</td>\n",
       "      <td>0.0</td>\n",
       "      <td>5700.0</td>\n",
       "      <td>0.0</td>\n",
       "      <td>5700.0</td>\n",
       "      <td>0.0</td>\n",
       "      <td>11500.0</td>\n",
       "    </tr>\n",
       "  </tbody>\n",
       "</table>\n",
       "</div>"
      ],
      "text/plain": [
       "        date  California.JHU_ConfirmedCases.data  \\\n",
       "0 2020-01-01                                 0.0   \n",
       "1 2020-01-02                                 0.0   \n",
       "2 2020-01-03                                 0.0   \n",
       "3 2020-01-04                                 0.0   \n",
       "4 2020-01-05                                 0.0   \n",
       "\n",
       "   California.JHU_ConfirmedCases.missing  California.JHU_ConfirmedDeaths.data  \\\n",
       "0                                 5700.0                                  0.0   \n",
       "1                                 5700.0                                  0.0   \n",
       "2                                 5700.0                                  0.0   \n",
       "3                                 5700.0                                  0.0   \n",
       "4                                 5700.0                                  0.0   \n",
       "\n",
       "   California.JHU_ConfirmedDeaths.missing  \\\n",
       "0                                  5700.0   \n",
       "1                                  5700.0   \n",
       "2                                  5700.0   \n",
       "3                                  5700.0   \n",
       "4                                  5700.0   \n",
       "\n",
       "   California.JHU_ConfirmedRecoveries.data  \\\n",
       "0                                      0.0   \n",
       "1                                      0.0   \n",
       "2                                      0.0   \n",
       "3                                      0.0   \n",
       "4                                      0.0   \n",
       "\n",
       "   California.JHU_ConfirmedRecoveries.missing  \n",
       "0                                     11500.0  \n",
       "1                                     11500.0  \n",
       "2                                     11500.0  \n",
       "3                                     11500.0  \n",
       "4                                     11500.0  "
      ]
     },
     "execution_count": 2,
     "metadata": {},
     "output_type": "execute_result"
    }
   ],
   "source": [
    "df = pd.read_csv(r'../../data/cases/CA_JHU_cases.csv')\n",
    "df['date'] = pd.to_datetime(df['date'])\n",
    "df.head()"
   ]
  },
  {
   "cell_type": "code",
   "execution_count": 3,
   "metadata": {},
   "outputs": [
    {
     "data": {
      "text/html": [
       "<div>\n",
       "<style scoped>\n",
       "    .dataframe tbody tr th:only-of-type {\n",
       "        vertical-align: middle;\n",
       "    }\n",
       "\n",
       "    .dataframe tbody tr th {\n",
       "        vertical-align: top;\n",
       "    }\n",
       "\n",
       "    .dataframe thead th {\n",
       "        text-align: right;\n",
       "    }\n",
       "</style>\n",
       "<table border=\"1\" class=\"dataframe\">\n",
       "  <thead>\n",
       "    <tr style=\"text-align: right;\">\n",
       "      <th></th>\n",
       "      <th>date</th>\n",
       "      <th>California.JHU_ConfirmedCases.data</th>\n",
       "    </tr>\n",
       "  </thead>\n",
       "  <tbody>\n",
       "    <tr>\n",
       "      <th>0</th>\n",
       "      <td>2020-01-01</td>\n",
       "      <td>0.0</td>\n",
       "    </tr>\n",
       "    <tr>\n",
       "      <th>1</th>\n",
       "      <td>2020-01-02</td>\n",
       "      <td>0.0</td>\n",
       "    </tr>\n",
       "    <tr>\n",
       "      <th>2</th>\n",
       "      <td>2020-01-03</td>\n",
       "      <td>0.0</td>\n",
       "    </tr>\n",
       "    <tr>\n",
       "      <th>3</th>\n",
       "      <td>2020-01-04</td>\n",
       "      <td>0.0</td>\n",
       "    </tr>\n",
       "    <tr>\n",
       "      <th>4</th>\n",
       "      <td>2020-01-05</td>\n",
       "      <td>0.0</td>\n",
       "    </tr>\n",
       "  </tbody>\n",
       "</table>\n",
       "</div>"
      ],
      "text/plain": [
       "        date  California.JHU_ConfirmedCases.data\n",
       "0 2020-01-01                                 0.0\n",
       "1 2020-01-02                                 0.0\n",
       "2 2020-01-03                                 0.0\n",
       "3 2020-01-04                                 0.0\n",
       "4 2020-01-05                                 0.0"
      ]
     },
     "execution_count": 3,
     "metadata": {},
     "output_type": "execute_result"
    }
   ],
   "source": [
    "cases = df[['date', 'California.JHU_ConfirmedCases.data']]\n",
    "cases.head()"
   ]
  },
  {
   "cell_type": "markdown",
   "metadata": {},
   "source": [
    "## Try an ARIMA Model"
   ]
  },
  {
   "cell_type": "code",
   "execution_count": 4,
   "metadata": {},
   "outputs": [
    {
     "data": {
      "text/html": [
       "<table class=\"simpletable\">\n",
       "<caption>ARIMA Model Results</caption>\n",
       "<tr>\n",
       "  <th>Dep. Variable:</th> <td>D2.California.JHU_ConfirmedCases.data</td> <th>  No. Observations:  </th>    <td>313</td>   \n",
       "</tr>\n",
       "<tr>\n",
       "  <th>Model:</th>                    <td>ARIMA(5, 2, 2)</td>             <th>  Log Likelihood     </th> <td>-2951.056</td>\n",
       "</tr>\n",
       "<tr>\n",
       "  <th>Method:</th>                       <td>css-mle</td>                <th>  S.D. of innovations</th> <td>2997.769</td> \n",
       "</tr>\n",
       "<tr>\n",
       "  <th>Date:</th>                    <td>Fri, 13 Nov 2020</td>            <th>  AIC                </th> <td>5920.113</td> \n",
       "</tr>\n",
       "<tr>\n",
       "  <th>Time:</th>                        <td>14:13:33</td>                <th>  BIC                </th> <td>5953.829</td> \n",
       "</tr>\n",
       "<tr>\n",
       "  <th>Sample:</th>                          <td>2</td>                   <th>  HQIC               </th> <td>5933.586</td> \n",
       "</tr>\n",
       "<tr>\n",
       "  <th></th>                                 <td> </td>                   <th>                     </th>     <td> </td>    \n",
       "</tr>\n",
       "</table>\n",
       "<table class=\"simpletable\">\n",
       "<tr>\n",
       "                       <td></td>                          <th>coef</th>     <th>std err</th>      <th>z</th>      <th>P>|z|</th>  <th>[0.025</th>    <th>0.975]</th>  \n",
       "</tr>\n",
       "<tr>\n",
       "  <th>const</th>                                       <td>   32.6193</td> <td>   39.626</td> <td>    0.823</td> <td> 0.410</td> <td>  -45.045</td> <td>  110.284</td>\n",
       "</tr>\n",
       "<tr>\n",
       "  <th>ar.L1.D2.California.JHU_ConfirmedCases.data</th> <td>   -0.0360</td> <td>    0.160</td> <td>   -0.225</td> <td> 0.822</td> <td>   -0.350</td> <td>    0.277</td>\n",
       "</tr>\n",
       "<tr>\n",
       "  <th>ar.L2.D2.California.JHU_ConfirmedCases.data</th> <td>   -0.2403</td> <td>    0.065</td> <td>   -3.685</td> <td> 0.000</td> <td>   -0.368</td> <td>   -0.113</td>\n",
       "</tr>\n",
       "<tr>\n",
       "  <th>ar.L3.D2.California.JHU_ConfirmedCases.data</th> <td>   -0.4694</td> <td>    0.062</td> <td>   -7.620</td> <td> 0.000</td> <td>   -0.590</td> <td>   -0.349</td>\n",
       "</tr>\n",
       "<tr>\n",
       "  <th>ar.L4.D2.California.JHU_ConfirmedCases.data</th> <td>   -0.2303</td> <td>    0.062</td> <td>   -3.698</td> <td> 0.000</td> <td>   -0.352</td> <td>   -0.108</td>\n",
       "</tr>\n",
       "<tr>\n",
       "  <th>ar.L5.D2.California.JHU_ConfirmedCases.data</th> <td>   -0.4043</td> <td>    0.064</td> <td>   -6.274</td> <td> 0.000</td> <td>   -0.531</td> <td>   -0.278</td>\n",
       "</tr>\n",
       "<tr>\n",
       "  <th>ma.L1.D2.California.JHU_ConfirmedCases.data</th> <td>   -0.9090</td> <td>    0.170</td> <td>   -5.357</td> <td> 0.000</td> <td>   -1.242</td> <td>   -0.576</td>\n",
       "</tr>\n",
       "<tr>\n",
       "  <th>ma.L2.D2.California.JHU_ConfirmedCases.data</th> <td>    0.4620</td> <td>    0.168</td> <td>    2.749</td> <td> 0.006</td> <td>    0.133</td> <td>    0.791</td>\n",
       "</tr>\n",
       "</table>\n",
       "<table class=\"simpletable\">\n",
       "<caption>Roots</caption>\n",
       "<tr>\n",
       "    <td></td>   <th>            Real</th>  <th>         Imaginary</th> <th>         Modulus</th>  <th>        Frequency</th>\n",
       "</tr>\n",
       "<tr>\n",
       "  <th>AR.1</th> <td>           0.6940</td> <td>          -0.8084j</td> <td>           1.0654</td> <td>          -0.1371</td>\n",
       "</tr>\n",
       "<tr>\n",
       "  <th>AR.2</th> <td>           0.6940</td> <td>          +0.8084j</td> <td>           1.0654</td> <td>           0.1371</td>\n",
       "</tr>\n",
       "<tr>\n",
       "  <th>AR.3</th> <td>          -1.1909</td> <td>          -0.0000j</td> <td>           1.1909</td> <td>          -0.5000</td>\n",
       "</tr>\n",
       "<tr>\n",
       "  <th>AR.4</th> <td>          -0.3833</td> <td>          -1.2972j</td> <td>           1.3527</td> <td>          -0.2957</td>\n",
       "</tr>\n",
       "<tr>\n",
       "  <th>AR.5</th> <td>          -0.3833</td> <td>          +1.2972j</td> <td>           1.3527</td> <td>           0.2957</td>\n",
       "</tr>\n",
       "<tr>\n",
       "  <th>MA.1</th> <td>           0.9838</td> <td>          -1.0940j</td> <td>           1.4713</td> <td>          -0.1334</td>\n",
       "</tr>\n",
       "<tr>\n",
       "  <th>MA.2</th> <td>           0.9838</td> <td>          +1.0940j</td> <td>           1.4713</td> <td>           0.1334</td>\n",
       "</tr>\n",
       "</table>"
      ],
      "text/plain": [
       "<class 'statsmodels.iolib.summary.Summary'>\n",
       "\"\"\"\n",
       "                                       ARIMA Model Results                                       \n",
       "=================================================================================================\n",
       "Dep. Variable:     D2.California.JHU_ConfirmedCases.data   No. Observations:                  313\n",
       "Model:                                    ARIMA(5, 2, 2)   Log Likelihood               -2951.056\n",
       "Method:                                          css-mle   S.D. of innovations           2997.769\n",
       "Date:                                   Fri, 13 Nov 2020   AIC                           5920.113\n",
       "Time:                                           14:13:33   BIC                           5953.829\n",
       "Sample:                                                2   HQIC                          5933.586\n",
       "                                                                                                 \n",
       "===============================================================================================================\n",
       "                                                  coef    std err          z      P>|z|      [0.025      0.975]\n",
       "---------------------------------------------------------------------------------------------------------------\n",
       "const                                          32.6193     39.626      0.823      0.410     -45.045     110.284\n",
       "ar.L1.D2.California.JHU_ConfirmedCases.data    -0.0360      0.160     -0.225      0.822      -0.350       0.277\n",
       "ar.L2.D2.California.JHU_ConfirmedCases.data    -0.2403      0.065     -3.685      0.000      -0.368      -0.113\n",
       "ar.L3.D2.California.JHU_ConfirmedCases.data    -0.4694      0.062     -7.620      0.000      -0.590      -0.349\n",
       "ar.L4.D2.California.JHU_ConfirmedCases.data    -0.2303      0.062     -3.698      0.000      -0.352      -0.108\n",
       "ar.L5.D2.California.JHU_ConfirmedCases.data    -0.4043      0.064     -6.274      0.000      -0.531      -0.278\n",
       "ma.L1.D2.California.JHU_ConfirmedCases.data    -0.9090      0.170     -5.357      0.000      -1.242      -0.576\n",
       "ma.L2.D2.California.JHU_ConfirmedCases.data     0.4620      0.168      2.749      0.006       0.133       0.791\n",
       "                                    Roots                                    \n",
       "=============================================================================\n",
       "                  Real          Imaginary           Modulus         Frequency\n",
       "-----------------------------------------------------------------------------\n",
       "AR.1            0.6940           -0.8084j            1.0654           -0.1371\n",
       "AR.2            0.6940           +0.8084j            1.0654            0.1371\n",
       "AR.3           -1.1909           -0.0000j            1.1909           -0.5000\n",
       "AR.4           -0.3833           -1.2972j            1.3527           -0.2957\n",
       "AR.5           -0.3833           +1.2972j            1.3527            0.2957\n",
       "MA.1            0.9838           -1.0940j            1.4713           -0.1334\n",
       "MA.2            0.9838           +1.0940j            1.4713            0.1334\n",
       "-----------------------------------------------------------------------------\n",
       "\"\"\""
      ]
     },
     "execution_count": 4,
     "metadata": {},
     "output_type": "execute_result"
    }
   ],
   "source": [
    "arima = arima_model.ARIMA(cases['California.JHU_ConfirmedCases.data'], order=(5,2,2))\n",
    "arima_fit = arima.fit(disp=0)\n",
    "arima_fit.summary()"
   ]
  },
  {
   "cell_type": "code",
   "execution_count": 5,
   "metadata": {},
   "outputs": [],
   "source": [
    "rst = arima.fit(disp=-1)"
   ]
  },
  {
   "cell_type": "code",
   "execution_count": 6,
   "metadata": {},
   "outputs": [
    {
     "data": {
      "text/plain": [
       "2        32.619320\n",
       "3        53.082508\n",
       "4        59.252980\n",
       "5        75.404837\n",
       "6        82.459866\n",
       "          ...     \n",
       "310   -1608.683784\n",
       "311   -3002.278094\n",
       "312   -1511.103972\n",
       "313    4828.233644\n",
       "314   -8854.513491\n",
       "Length: 313, dtype: float64"
      ]
     },
     "execution_count": 6,
     "metadata": {},
     "output_type": "execute_result"
    }
   ],
   "source": [
    "rst.fittedvalues"
   ]
  },
  {
   "cell_type": "code",
   "execution_count": 7,
   "metadata": {},
   "outputs": [
    {
     "ename": "ValueError",
     "evalue": "The start index -2 of the original series  has been differenced away",
     "output_type": "error",
     "traceback": [
      "\u001b[1;31m---------------------------------------------------------------------------\u001b[0m",
      "\u001b[1;31mValueError\u001b[0m                                Traceback (most recent call last)",
      "\u001b[1;32m<ipython-input-7-3c9ae7845af9>\u001b[0m in \u001b[0;36m<module>\u001b[1;34m\u001b[0m\n\u001b[1;32m----> 1\u001b[1;33m \u001b[0mrst\u001b[0m\u001b[1;33m.\u001b[0m\u001b[0mplot_predict\u001b[0m\u001b[1;33m(\u001b[0m\u001b[1;36m0\u001b[0m\u001b[1;33m,\u001b[0m\u001b[0mlen\u001b[0m\u001b[1;33m(\u001b[0m\u001b[0mcases\u001b[0m\u001b[1;33m)\u001b[0m\u001b[1;33m)\u001b[0m\u001b[1;33m\u001b[0m\u001b[1;33m\u001b[0m\u001b[0m\n\u001b[0m",
      "\u001b[1;32mC:\\Users\\Justin\\AppData\\Roaming\\Python\\Python37\\site-packages\\statsmodels\\tsa\\arima_model.py\u001b[0m in \u001b[0;36mplot_predict\u001b[1;34m(self, start, end, exog, dynamic, alpha, plot_insample, ax)\u001b[0m\n\u001b[0;32m   1942\u001b[0m \u001b[1;33m\u001b[0m\u001b[0m\n\u001b[0;32m   1943\u001b[0m         \u001b[1;31m# use predict so you set dates\u001b[0m\u001b[1;33m\u001b[0m\u001b[1;33m\u001b[0m\u001b[1;33m\u001b[0m\u001b[0m\n\u001b[1;32m-> 1944\u001b[1;33m         \u001b[0mforecast\u001b[0m \u001b[1;33m=\u001b[0m \u001b[0mself\u001b[0m\u001b[1;33m.\u001b[0m\u001b[0mpredict\u001b[0m\u001b[1;33m(\u001b[0m\u001b[0mstart\u001b[0m\u001b[1;33m,\u001b[0m \u001b[0mend\u001b[0m\u001b[1;33m,\u001b[0m \u001b[0mexog\u001b[0m\u001b[1;33m,\u001b[0m \u001b[1;34m'levels'\u001b[0m\u001b[1;33m,\u001b[0m \u001b[0mdynamic\u001b[0m\u001b[1;33m)\u001b[0m\u001b[1;33m\u001b[0m\u001b[1;33m\u001b[0m\u001b[0m\n\u001b[0m\u001b[0;32m   1945\u001b[0m         \u001b[1;31m# doing this twice. just add a plot keyword to predict?\u001b[0m\u001b[1;33m\u001b[0m\u001b[1;33m\u001b[0m\u001b[1;33m\u001b[0m\u001b[0m\n\u001b[0;32m   1946\u001b[0m         start, end, out_of_sample, _ = (\n",
      "\u001b[1;32mC:\\Users\\Justin\\AppData\\Roaming\\Python\\Python37\\site-packages\\statsmodels\\tsa\\arima_model.py\u001b[0m in \u001b[0;36mpredict\u001b[1;34m(self, start, end, exog, typ, dynamic)\u001b[0m\n\u001b[0;32m   1857\u001b[0m     def predict(self, start=None, end=None, exog=None, typ='linear',\n\u001b[0;32m   1858\u001b[0m                 dynamic=False):\n\u001b[1;32m-> 1859\u001b[1;33m         \u001b[1;32mreturn\u001b[0m \u001b[0mself\u001b[0m\u001b[1;33m.\u001b[0m\u001b[0mmodel\u001b[0m\u001b[1;33m.\u001b[0m\u001b[0mpredict\u001b[0m\u001b[1;33m(\u001b[0m\u001b[0mself\u001b[0m\u001b[1;33m.\u001b[0m\u001b[0mparams\u001b[0m\u001b[1;33m,\u001b[0m \u001b[0mstart\u001b[0m\u001b[1;33m,\u001b[0m \u001b[0mend\u001b[0m\u001b[1;33m,\u001b[0m \u001b[0mexog\u001b[0m\u001b[1;33m,\u001b[0m \u001b[0mtyp\u001b[0m\u001b[1;33m,\u001b[0m \u001b[0mdynamic\u001b[0m\u001b[1;33m)\u001b[0m\u001b[1;33m\u001b[0m\u001b[1;33m\u001b[0m\u001b[0m\n\u001b[0m\u001b[0;32m   1860\u001b[0m \u001b[1;33m\u001b[0m\u001b[0m\n\u001b[0;32m   1861\u001b[0m     \u001b[1;32mdef\u001b[0m \u001b[0m_forecast_error\u001b[0m\u001b[1;33m(\u001b[0m\u001b[0mself\u001b[0m\u001b[1;33m,\u001b[0m \u001b[0msteps\u001b[0m\u001b[1;33m)\u001b[0m\u001b[1;33m:\u001b[0m\u001b[1;33m\u001b[0m\u001b[1;33m\u001b[0m\u001b[0m\n",
      "\u001b[1;32mC:\\Users\\Justin\\AppData\\Roaming\\Python\\Python37\\site-packages\\statsmodels\\tsa\\arima_model.py\u001b[0m in \u001b[0;36mpredict\u001b[1;34m(self, params, start, end, exog, typ, dynamic)\u001b[0m\n\u001b[0;32m   1241\u001b[0m             \u001b[1;32mif\u001b[0m \u001b[1;32mnot\u001b[0m \u001b[0mdynamic\u001b[0m\u001b[1;33m:\u001b[0m\u001b[1;33m\u001b[0m\u001b[1;33m\u001b[0m\u001b[0m\n\u001b[0;32m   1242\u001b[0m                 predict = super(ARIMA, self).predict(params, start, end, exog,\n\u001b[1;32m-> 1243\u001b[1;33m                                                      dynamic)\n\u001b[0m\u001b[0;32m   1244\u001b[0m \u001b[1;33m\u001b[0m\u001b[0m\n\u001b[0;32m   1245\u001b[0m                 start, end, out_of_sample, _ = (\n",
      "\u001b[1;32mC:\\Users\\Justin\\AppData\\Roaming\\Python\\Python37\\site-packages\\statsmodels\\tsa\\arima_model.py\u001b[0m in \u001b[0;36mpredict\u001b[1;34m(self, params, start, end, exog, dynamic, **kwargs)\u001b[0m\n\u001b[0;32m    735\u001b[0m         \u001b[1;31m# will return an index of a date\u001b[0m\u001b[1;33m\u001b[0m\u001b[1;33m\u001b[0m\u001b[1;33m\u001b[0m\u001b[0m\n\u001b[0;32m    736\u001b[0m         start, end, out_of_sample, _ = (\n\u001b[1;32m--> 737\u001b[1;33m             self._get_prediction_index(start, end, dynamic))\n\u001b[0m\u001b[0;32m    738\u001b[0m \u001b[1;33m\u001b[0m\u001b[0m\n\u001b[0;32m    739\u001b[0m         \u001b[1;32mif\u001b[0m \u001b[0mout_of_sample\u001b[0m \u001b[1;32mand\u001b[0m \u001b[1;33m(\u001b[0m\u001b[0mexog\u001b[0m \u001b[1;32mis\u001b[0m \u001b[1;32mNone\u001b[0m \u001b[1;32mand\u001b[0m \u001b[0mself\u001b[0m\u001b[1;33m.\u001b[0m\u001b[0mk_exog\u001b[0m \u001b[1;33m>\u001b[0m \u001b[1;36m0\u001b[0m\u001b[1;33m)\u001b[0m\u001b[1;33m:\u001b[0m\u001b[1;33m\u001b[0m\u001b[1;33m\u001b[0m\u001b[0m\n",
      "\u001b[1;32mC:\\Users\\Justin\\AppData\\Roaming\\Python\\Python37\\site-packages\\statsmodels\\tsa\\arima_model.py\u001b[0m in \u001b[0;36m_get_prediction_index\u001b[1;34m(self, start, end, dynamic, index)\u001b[0m\n\u001b[0;32m   1098\u001b[0m             \u001b[1;32mif\u001b[0m \u001b[0mstart\u001b[0m \u001b[1;33m<\u001b[0m \u001b[1;36m0\u001b[0m\u001b[1;33m:\u001b[0m\u001b[1;33m\u001b[0m\u001b[1;33m\u001b[0m\u001b[0m\n\u001b[0;32m   1099\u001b[0m                 raise ValueError('The start index %d of the original series '\n\u001b[1;32m-> 1100\u001b[1;33m                                  ' has been differenced away' % start)\n\u001b[0m\u001b[0;32m   1101\u001b[0m         \u001b[1;32mif\u001b[0m \u001b[0misinstance\u001b[0m\u001b[1;33m(\u001b[0m\u001b[0mend\u001b[0m\u001b[1;33m,\u001b[0m \u001b[1;33m(\u001b[0m\u001b[0mint\u001b[0m\u001b[1;33m,\u001b[0m \u001b[0mnp\u001b[0m\u001b[1;33m.\u001b[0m\u001b[0minteger\u001b[0m\u001b[1;33m)\u001b[0m\u001b[1;33m)\u001b[0m\u001b[1;33m:\u001b[0m\u001b[1;33m\u001b[0m\u001b[1;33m\u001b[0m\u001b[0m\n\u001b[0;32m   1102\u001b[0m             \u001b[0mend\u001b[0m \u001b[1;33m-=\u001b[0m \u001b[0mk_diff\u001b[0m\u001b[1;33m\u001b[0m\u001b[1;33m\u001b[0m\u001b[0m\n",
      "\u001b[1;31mValueError\u001b[0m: The start index -2 of the original series  has been differenced away"
     ]
    },
    {
     "data": {
      "image/png": "[encoded data removed]",
      "text/plain": [
       "<Figure size 432x288 with 1 Axes>"
      ]
     },
     "metadata": {
      "needs_background": "light"
     },
     "output_type": "display_data"
    }
   ],
   "source": [
    "rst.plot_predict(0,len(cases))"
   ]
  },
  {
   "cell_type": "markdown",
   "metadata": {},
   "source": [
    "## Test inclusion of exogenous variables"
   ]
  },
  {
   "cell_type": "code",
   "execution_count": null,
   "metadata": {},
   "outputs": [],
   "source": [
    "labor = pd.read_csv(r'../../data/demographics/CA_State_labor.csv')\n",
    "labor.head()"
   ]
  },
  {
   "cell_type": "code",
   "execution_count": null,
   "metadata": {},
   "outputs": [],
   "source": [
    "df['month'] = df['date'].apply(lambda x: int(x.month))\n",
    "df.head()"
   ]
  },
  {
   "cell_type": "code",
   "execution_count": null,
   "metadata": {},
   "outputs": [],
   "source": [
    "exo_test = df[['date', 'month','California.JHU_ConfirmedCases.data']].merge(labor[['month','unemploymentRate']], on=['month'])\n",
    "exo_test.head()"
   ]
  },
  {
   "cell_type": "code",
   "execution_count": null,
   "metadata": {},
   "outputs": [],
   "source": [
    "arimax = arima_model.ARIMA(exo_test['California.JHU_ConfirmedCases.data'], \n",
    "                           order=(0,0,1), exog=exo_test['unemploymentRate'])\n",
    "arimax_fit = arimax.fit(disp=0)\n",
    "arimax_fit.summary()"
   ]
  },
  {
   "cell_type": "code",
   "execution_count": null,
   "metadata": {},
   "outputs": [],
   "source": [
    "rst2 = arimax.fit(disp=-1)\n",
    "rst2.fittedvalues"
   ]
  },
  {
   "cell_type": "code",
   "execution_count": null,
   "metadata": {},
   "outputs": [],
   "source": [
    "rst2.plot_predict(0,len(exo_test), exog=exo_test['unemploymentRate'])"
   ]
  },
  {
   "cell_type": "code",
   "execution_count": null,
   "metadata": {},
   "outputs": [],
   "source": []
  }
 ],
 "metadata": {
  "kernelspec": {
   "display_name": "Python 3",
   "language": "python",
   "name": "python3"
  },
  "language_info": {
   "codemirror_mode": {
    "name": "ipython",
    "version": 3
   },
   "file_extension": ".py",
   "mimetype": "text/x-python",
   "name": "python",
   "nbconvert_exporter": "python",
   "pygments_lexer": "ipython3",
   "version": "3.7.1"
  }
 },
 "nbformat": 4,
 "nbformat_minor": 4
}
